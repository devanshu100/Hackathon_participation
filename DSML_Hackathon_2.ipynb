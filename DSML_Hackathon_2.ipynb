{
 "cells": [
  {
   "cell_type": "code",
   "execution_count": 1,
   "metadata": {
    "id": "6-jR8VAHpr6N"
   },
   "outputs": [],
   "source": [
    "import pandas as pd\n",
    "import numpy as np\n",
    "import matplotlib.pyplot as plt\n",
    "import seaborn as sns\n",
    "from sklearn.ensemble import ExtraTreesClassifier\n",
    "from sklearn.preprocessing import LabelEncoder"
   ]
  },
  {
   "cell_type": "code",
   "execution_count": 2,
   "metadata": {
    "colab": {
     "base_uri": "https://localhost:8080/",
     "height": 270
    },
    "id": "b396jWQqq5tx",
    "outputId": "845fbb47-ae9b-41d5-aaf7-5b6472512aa1"
   },
   "outputs": [
    {
     "data": {
      "text/html": [
       "<div>\n",
       "<style scoped>\n",
       "    .dataframe tbody tr th:only-of-type {\n",
       "        vertical-align: middle;\n",
       "    }\n",
       "\n",
       "    .dataframe tbody tr th {\n",
       "        vertical-align: top;\n",
       "    }\n",
       "\n",
       "    .dataframe thead th {\n",
       "        text-align: right;\n",
       "    }\n",
       "</style>\n",
       "<table border=\"1\" class=\"dataframe\">\n",
       "  <thead>\n",
       "    <tr style=\"text-align: right;\">\n",
       "      <th></th>\n",
       "      <th>administrative</th>\n",
       "      <th>administrative_duration</th>\n",
       "      <th>informational</th>\n",
       "      <th>informational_duration</th>\n",
       "      <th>productrelated</th>\n",
       "      <th>productrelated_duration</th>\n",
       "      <th>bouncerates</th>\n",
       "      <th>exitrates</th>\n",
       "      <th>pagevalues</th>\n",
       "      <th>specialday</th>\n",
       "      <th>month</th>\n",
       "      <th>operatingsystems</th>\n",
       "      <th>browser</th>\n",
       "      <th>region</th>\n",
       "      <th>traffictype</th>\n",
       "      <th>visitortype</th>\n",
       "      <th>weekend</th>\n",
       "      <th>revenue</th>\n",
       "    </tr>\n",
       "  </thead>\n",
       "  <tbody>\n",
       "    <tr>\n",
       "      <th>0</th>\n",
       "      <td>2</td>\n",
       "      <td>47.500000</td>\n",
       "      <td>0</td>\n",
       "      <td>0.0</td>\n",
       "      <td>19</td>\n",
       "      <td>1203.480714</td>\n",
       "      <td>0.000000</td>\n",
       "      <td>0.027421</td>\n",
       "      <td>6.748509</td>\n",
       "      <td>0.0</td>\n",
       "      <td>Nov</td>\n",
       "      <td>2</td>\n",
       "      <td>2</td>\n",
       "      <td>3</td>\n",
       "      <td>2</td>\n",
       "      <td>Returning_Visitor</td>\n",
       "      <td>False</td>\n",
       "      <td>0</td>\n",
       "    </tr>\n",
       "    <tr>\n",
       "      <th>1</th>\n",
       "      <td>0</td>\n",
       "      <td>0.000000</td>\n",
       "      <td>0</td>\n",
       "      <td>0.0</td>\n",
       "      <td>7</td>\n",
       "      <td>152.000000</td>\n",
       "      <td>0.000000</td>\n",
       "      <td>0.033333</td>\n",
       "      <td>0.000000</td>\n",
       "      <td>0.0</td>\n",
       "      <td>Dec</td>\n",
       "      <td>3</td>\n",
       "      <td>2</td>\n",
       "      <td>6</td>\n",
       "      <td>3</td>\n",
       "      <td>Returning_Visitor</td>\n",
       "      <td>False</td>\n",
       "      <td>0</td>\n",
       "    </tr>\n",
       "    <tr>\n",
       "      <th>2</th>\n",
       "      <td>7</td>\n",
       "      <td>206.500000</td>\n",
       "      <td>1</td>\n",
       "      <td>389.9</td>\n",
       "      <td>95</td>\n",
       "      <td>4415.889952</td>\n",
       "      <td>0.000133</td>\n",
       "      <td>0.033750</td>\n",
       "      <td>2.676062</td>\n",
       "      <td>0.0</td>\n",
       "      <td>Nov</td>\n",
       "      <td>2</td>\n",
       "      <td>2</td>\n",
       "      <td>1</td>\n",
       "      <td>20</td>\n",
       "      <td>Returning_Visitor</td>\n",
       "      <td>False</td>\n",
       "      <td>0</td>\n",
       "    </tr>\n",
       "    <tr>\n",
       "      <th>3</th>\n",
       "      <td>1</td>\n",
       "      <td>18.258571</td>\n",
       "      <td>0</td>\n",
       "      <td>0.0</td>\n",
       "      <td>103</td>\n",
       "      <td>8305.048706</td>\n",
       "      <td>0.004871</td>\n",
       "      <td>0.034746</td>\n",
       "      <td>6.824908</td>\n",
       "      <td>0.0</td>\n",
       "      <td>Nov</td>\n",
       "      <td>2</td>\n",
       "      <td>2</td>\n",
       "      <td>1</td>\n",
       "      <td>2</td>\n",
       "      <td>Returning_Visitor</td>\n",
       "      <td>True</td>\n",
       "      <td>1</td>\n",
       "    </tr>\n",
       "    <tr>\n",
       "      <th>4</th>\n",
       "      <td>0</td>\n",
       "      <td>0.000000</td>\n",
       "      <td>0</td>\n",
       "      <td>0.0</td>\n",
       "      <td>42</td>\n",
       "      <td>1305.108333</td>\n",
       "      <td>0.016068</td>\n",
       "      <td>0.039742</td>\n",
       "      <td>0.000000</td>\n",
       "      <td>0.0</td>\n",
       "      <td>Dec</td>\n",
       "      <td>3</td>\n",
       "      <td>2</td>\n",
       "      <td>5</td>\n",
       "      <td>2</td>\n",
       "      <td>Returning_Visitor</td>\n",
       "      <td>False</td>\n",
       "      <td>0</td>\n",
       "    </tr>\n",
       "  </tbody>\n",
       "</table>\n",
       "</div>"
      ],
      "text/plain": [
       "   administrative  administrative_duration  informational  \\\n",
       "0               2                47.500000              0   \n",
       "1               0                 0.000000              0   \n",
       "2               7               206.500000              1   \n",
       "3               1                18.258571              0   \n",
       "4               0                 0.000000              0   \n",
       "\n",
       "   informational_duration  productrelated  productrelated_duration  \\\n",
       "0                     0.0              19              1203.480714   \n",
       "1                     0.0               7               152.000000   \n",
       "2                   389.9              95              4415.889952   \n",
       "3                     0.0             103              8305.048706   \n",
       "4                     0.0              42              1305.108333   \n",
       "\n",
       "   bouncerates  exitrates  pagevalues  specialday month operatingsystems  \\\n",
       "0     0.000000   0.027421    6.748509         0.0   Nov                2   \n",
       "1     0.000000   0.033333    0.000000         0.0   Dec                3   \n",
       "2     0.000133   0.033750    2.676062         0.0   Nov                2   \n",
       "3     0.004871   0.034746    6.824908         0.0   Nov                2   \n",
       "4     0.016068   0.039742    0.000000         0.0   Dec                3   \n",
       "\n",
       "  browser  region traffictype        visitortype  weekend  revenue  \n",
       "0       2       3           2  Returning_Visitor    False        0  \n",
       "1       2       6           3  Returning_Visitor    False        0  \n",
       "2       2       1          20  Returning_Visitor    False        0  \n",
       "3       2       1           2  Returning_Visitor     True        1  \n",
       "4       2       5           2  Returning_Visitor    False        0  "
      ]
     },
     "execution_count": 2,
     "metadata": {},
     "output_type": "execute_result"
    }
   ],
   "source": [
    "revDF = pd.read_csv(\"C:\\\\Users\\\\admin\\\\Desktop\\\\Campus Hackathon\\\\train.csv\")\n",
    "revDF.drop(columns=\"session_id\", inplace=True)\n",
    "revDF.head()"
   ]
  },
  {
   "cell_type": "code",
   "execution_count": 3,
   "metadata": {
    "colab": {
     "base_uri": "https://localhost:8080/",
     "height": 458
    },
    "id": "2S9yXxg8ujXm",
    "outputId": "d9b383d3-f965-40b2-9f8c-5115238b35ea"
   },
   "outputs": [
    {
     "data": {
      "text/html": [
       "<div>\n",
       "<style scoped>\n",
       "    .dataframe tbody tr th:only-of-type {\n",
       "        vertical-align: middle;\n",
       "    }\n",
       "\n",
       "    .dataframe tbody tr th {\n",
       "        vertical-align: top;\n",
       "    }\n",
       "\n",
       "    .dataframe thead th {\n",
       "        text-align: right;\n",
       "    }\n",
       "</style>\n",
       "<table border=\"1\" class=\"dataframe\">\n",
       "  <thead>\n",
       "    <tr style=\"text-align: right;\">\n",
       "      <th></th>\n",
       "      <th>administrative</th>\n",
       "      <th>administrative_duration</th>\n",
       "      <th>informational</th>\n",
       "      <th>informational_duration</th>\n",
       "      <th>productrelated</th>\n",
       "      <th>productrelated_duration</th>\n",
       "      <th>bouncerates</th>\n",
       "      <th>exitrates</th>\n",
       "      <th>pagevalues</th>\n",
       "      <th>specialday</th>\n",
       "      <th>month</th>\n",
       "      <th>operatingsystems</th>\n",
       "      <th>browser</th>\n",
       "      <th>region</th>\n",
       "      <th>traffictype</th>\n",
       "      <th>visitortype</th>\n",
       "      <th>weekend</th>\n",
       "      <th>revenue</th>\n",
       "    </tr>\n",
       "  </thead>\n",
       "  <tbody>\n",
       "    <tr>\n",
       "      <th>count</th>\n",
       "      <td>40000.000000</td>\n",
       "      <td>40000.000000</td>\n",
       "      <td>40000.000000</td>\n",
       "      <td>40000.000000</td>\n",
       "      <td>40000.000000</td>\n",
       "      <td>40000.000000</td>\n",
       "      <td>40000.000000</td>\n",
       "      <td>40000.000000</td>\n",
       "      <td>40000.000000</td>\n",
       "      <td>40000.000000</td>\n",
       "      <td>40000</td>\n",
       "      <td>40000</td>\n",
       "      <td>40000</td>\n",
       "      <td>40000.000000</td>\n",
       "      <td>40000</td>\n",
       "      <td>40000</td>\n",
       "      <td>40000</td>\n",
       "      <td>40000.000000</td>\n",
       "    </tr>\n",
       "    <tr>\n",
       "      <th>unique</th>\n",
       "      <td>NaN</td>\n",
       "      <td>NaN</td>\n",
       "      <td>NaN</td>\n",
       "      <td>NaN</td>\n",
       "      <td>NaN</td>\n",
       "      <td>NaN</td>\n",
       "      <td>NaN</td>\n",
       "      <td>NaN</td>\n",
       "      <td>NaN</td>\n",
       "      <td>NaN</td>\n",
       "      <td>10</td>\n",
       "      <td>6</td>\n",
       "      <td>11</td>\n",
       "      <td>NaN</td>\n",
       "      <td>15</td>\n",
       "      <td>3</td>\n",
       "      <td>2</td>\n",
       "      <td>NaN</td>\n",
       "    </tr>\n",
       "    <tr>\n",
       "      <th>top</th>\n",
       "      <td>NaN</td>\n",
       "      <td>NaN</td>\n",
       "      <td>NaN</td>\n",
       "      <td>NaN</td>\n",
       "      <td>NaN</td>\n",
       "      <td>NaN</td>\n",
       "      <td>NaN</td>\n",
       "      <td>NaN</td>\n",
       "      <td>NaN</td>\n",
       "      <td>NaN</td>\n",
       "      <td>May</td>\n",
       "      <td>2</td>\n",
       "      <td>2</td>\n",
       "      <td>NaN</td>\n",
       "      <td>2</td>\n",
       "      <td>Returning_Visitor</td>\n",
       "      <td>False</td>\n",
       "      <td>NaN</td>\n",
       "    </tr>\n",
       "    <tr>\n",
       "      <th>freq</th>\n",
       "      <td>NaN</td>\n",
       "      <td>NaN</td>\n",
       "      <td>NaN</td>\n",
       "      <td>NaN</td>\n",
       "      <td>NaN</td>\n",
       "      <td>NaN</td>\n",
       "      <td>NaN</td>\n",
       "      <td>NaN</td>\n",
       "      <td>NaN</td>\n",
       "      <td>NaN</td>\n",
       "      <td>11048</td>\n",
       "      <td>21638</td>\n",
       "      <td>25540</td>\n",
       "      <td>NaN</td>\n",
       "      <td>12545</td>\n",
       "      <td>34496</td>\n",
       "      <td>31053</td>\n",
       "      <td>NaN</td>\n",
       "    </tr>\n",
       "    <tr>\n",
       "      <th>mean</th>\n",
       "      <td>2.544150</td>\n",
       "      <td>89.794383</td>\n",
       "      <td>0.555225</td>\n",
       "      <td>40.977236</td>\n",
       "      <td>34.026975</td>\n",
       "      <td>1148.105672</td>\n",
       "      <td>0.021969</td>\n",
       "      <td>0.042307</td>\n",
       "      <td>6.494963</td>\n",
       "      <td>0.063553</td>\n",
       "      <td>NaN</td>\n",
       "      <td>NaN</td>\n",
       "      <td>NaN</td>\n",
       "      <td>3.241975</td>\n",
       "      <td>NaN</td>\n",
       "      <td>NaN</td>\n",
       "      <td>NaN</td>\n",
       "      <td>0.158275</td>\n",
       "    </tr>\n",
       "    <tr>\n",
       "      <th>std</th>\n",
       "      <td>3.667252</td>\n",
       "      <td>182.964645</td>\n",
       "      <td>1.332627</td>\n",
       "      <td>153.114387</td>\n",
       "      <td>46.798102</td>\n",
       "      <td>1666.181462</td>\n",
       "      <td>0.048533</td>\n",
       "      <td>0.048633</td>\n",
       "      <td>17.710646</td>\n",
       "      <td>0.199463</td>\n",
       "      <td>NaN</td>\n",
       "      <td>NaN</td>\n",
       "      <td>NaN</td>\n",
       "      <td>2.423586</td>\n",
       "      <td>NaN</td>\n",
       "      <td>NaN</td>\n",
       "      <td>NaN</td>\n",
       "      <td>0.365003</td>\n",
       "    </tr>\n",
       "    <tr>\n",
       "      <th>min</th>\n",
       "      <td>0.000000</td>\n",
       "      <td>0.000000</td>\n",
       "      <td>0.000000</td>\n",
       "      <td>0.000000</td>\n",
       "      <td>0.000000</td>\n",
       "      <td>0.000000</td>\n",
       "      <td>0.000000</td>\n",
       "      <td>0.000000</td>\n",
       "      <td>0.000000</td>\n",
       "      <td>0.000000</td>\n",
       "      <td>NaN</td>\n",
       "      <td>NaN</td>\n",
       "      <td>NaN</td>\n",
       "      <td>1.000000</td>\n",
       "      <td>NaN</td>\n",
       "      <td>NaN</td>\n",
       "      <td>NaN</td>\n",
       "      <td>0.000000</td>\n",
       "    </tr>\n",
       "    <tr>\n",
       "      <th>25%</th>\n",
       "      <td>0.000000</td>\n",
       "      <td>0.000000</td>\n",
       "      <td>0.000000</td>\n",
       "      <td>0.000000</td>\n",
       "      <td>7.000000</td>\n",
       "      <td>183.883333</td>\n",
       "      <td>0.000000</td>\n",
       "      <td>0.013389</td>\n",
       "      <td>0.000000</td>\n",
       "      <td>0.000000</td>\n",
       "      <td>NaN</td>\n",
       "      <td>NaN</td>\n",
       "      <td>NaN</td>\n",
       "      <td>1.000000</td>\n",
       "      <td>NaN</td>\n",
       "      <td>NaN</td>\n",
       "      <td>NaN</td>\n",
       "      <td>0.000000</td>\n",
       "    </tr>\n",
       "    <tr>\n",
       "      <th>50%</th>\n",
       "      <td>1.000000</td>\n",
       "      <td>11.200000</td>\n",
       "      <td>0.000000</td>\n",
       "      <td>0.000000</td>\n",
       "      <td>19.000000</td>\n",
       "      <td>560.075000</td>\n",
       "      <td>0.003304</td>\n",
       "      <td>0.025000</td>\n",
       "      <td>0.000000</td>\n",
       "      <td>0.000000</td>\n",
       "      <td>NaN</td>\n",
       "      <td>NaN</td>\n",
       "      <td>NaN</td>\n",
       "      <td>3.000000</td>\n",
       "      <td>NaN</td>\n",
       "      <td>NaN</td>\n",
       "      <td>NaN</td>\n",
       "      <td>0.000000</td>\n",
       "    </tr>\n",
       "    <tr>\n",
       "      <th>75%</th>\n",
       "      <td>4.000000</td>\n",
       "      <td>110.154167</td>\n",
       "      <td>0.000000</td>\n",
       "      <td>0.000000</td>\n",
       "      <td>41.000000</td>\n",
       "      <td>1420.536667</td>\n",
       "      <td>0.016667</td>\n",
       "      <td>0.050000</td>\n",
       "      <td>0.000000</td>\n",
       "      <td>0.000000</td>\n",
       "      <td>NaN</td>\n",
       "      <td>NaN</td>\n",
       "      <td>NaN</td>\n",
       "      <td>4.000000</td>\n",
       "      <td>NaN</td>\n",
       "      <td>NaN</td>\n",
       "      <td>NaN</td>\n",
       "      <td>0.000000</td>\n",
       "    </tr>\n",
       "    <tr>\n",
       "      <th>max</th>\n",
       "      <td>22.000000</td>\n",
       "      <td>1946.000000</td>\n",
       "      <td>11.000000</td>\n",
       "      <td>1767.666667</td>\n",
       "      <td>440.000000</td>\n",
       "      <td>18504.126210</td>\n",
       "      <td>0.200000</td>\n",
       "      <td>0.200000</td>\n",
       "      <td>226.677702</td>\n",
       "      <td>1.000000</td>\n",
       "      <td>NaN</td>\n",
       "      <td>NaN</td>\n",
       "      <td>NaN</td>\n",
       "      <td>9.000000</td>\n",
       "      <td>NaN</td>\n",
       "      <td>NaN</td>\n",
       "      <td>NaN</td>\n",
       "      <td>1.000000</td>\n",
       "    </tr>\n",
       "  </tbody>\n",
       "</table>\n",
       "</div>"
      ],
      "text/plain": [
       "        administrative  administrative_duration  informational  \\\n",
       "count     40000.000000             40000.000000   40000.000000   \n",
       "unique             NaN                      NaN            NaN   \n",
       "top                NaN                      NaN            NaN   \n",
       "freq               NaN                      NaN            NaN   \n",
       "mean          2.544150                89.794383       0.555225   \n",
       "std           3.667252               182.964645       1.332627   \n",
       "min           0.000000                 0.000000       0.000000   \n",
       "25%           0.000000                 0.000000       0.000000   \n",
       "50%           1.000000                11.200000       0.000000   \n",
       "75%           4.000000               110.154167       0.000000   \n",
       "max          22.000000              1946.000000      11.000000   \n",
       "\n",
       "        informational_duration  productrelated  productrelated_duration  \\\n",
       "count             40000.000000    40000.000000             40000.000000   \n",
       "unique                     NaN             NaN                      NaN   \n",
       "top                        NaN             NaN                      NaN   \n",
       "freq                       NaN             NaN                      NaN   \n",
       "mean                 40.977236       34.026975              1148.105672   \n",
       "std                 153.114387       46.798102              1666.181462   \n",
       "min                   0.000000        0.000000                 0.000000   \n",
       "25%                   0.000000        7.000000               183.883333   \n",
       "50%                   0.000000       19.000000               560.075000   \n",
       "75%                   0.000000       41.000000              1420.536667   \n",
       "max                1767.666667      440.000000             18504.126210   \n",
       "\n",
       "         bouncerates     exitrates    pagevalues    specialday  month  \\\n",
       "count   40000.000000  40000.000000  40000.000000  40000.000000  40000   \n",
       "unique           NaN           NaN           NaN           NaN     10   \n",
       "top              NaN           NaN           NaN           NaN    May   \n",
       "freq             NaN           NaN           NaN           NaN  11048   \n",
       "mean        0.021969      0.042307      6.494963      0.063553    NaN   \n",
       "std         0.048533      0.048633     17.710646      0.199463    NaN   \n",
       "min         0.000000      0.000000      0.000000      0.000000    NaN   \n",
       "25%         0.000000      0.013389      0.000000      0.000000    NaN   \n",
       "50%         0.003304      0.025000      0.000000      0.000000    NaN   \n",
       "75%         0.016667      0.050000      0.000000      0.000000    NaN   \n",
       "max         0.200000      0.200000    226.677702      1.000000    NaN   \n",
       "\n",
       "       operatingsystems browser        region traffictype        visitortype  \\\n",
       "count             40000   40000  40000.000000       40000              40000   \n",
       "unique                6      11           NaN          15                  3   \n",
       "top                   2       2           NaN           2  Returning_Visitor   \n",
       "freq              21638   25540           NaN       12545              34496   \n",
       "mean                NaN     NaN      3.241975         NaN                NaN   \n",
       "std                 NaN     NaN      2.423586         NaN                NaN   \n",
       "min                 NaN     NaN      1.000000         NaN                NaN   \n",
       "25%                 NaN     NaN      1.000000         NaN                NaN   \n",
       "50%                 NaN     NaN      3.000000         NaN                NaN   \n",
       "75%                 NaN     NaN      4.000000         NaN                NaN   \n",
       "max                 NaN     NaN      9.000000         NaN                NaN   \n",
       "\n",
       "       weekend       revenue  \n",
       "count    40000  40000.000000  \n",
       "unique       2           NaN  \n",
       "top      False           NaN  \n",
       "freq     31053           NaN  \n",
       "mean       NaN      0.158275  \n",
       "std        NaN      0.365003  \n",
       "min        NaN      0.000000  \n",
       "25%        NaN      0.000000  \n",
       "50%        NaN      0.000000  \n",
       "75%        NaN      0.000000  \n",
       "max        NaN      1.000000  "
      ]
     },
     "execution_count": 3,
     "metadata": {},
     "output_type": "execute_result"
    }
   ],
   "source": [
    "revDF.describe(include=\"all\")"
   ]
  },
  {
   "cell_type": "code",
   "execution_count": 4,
   "metadata": {
    "colab": {
     "base_uri": "https://localhost:8080/"
    },
    "id": "uKWHROMsw0gN",
    "outputId": "c7a1fd48-d832-48f1-83f8-ceb5fd48e20c"
   },
   "outputs": [
    {
     "name": "stdout",
     "output_type": "stream",
     "text": [
      "<class 'pandas.core.frame.DataFrame'>\n",
      "RangeIndex: 40000 entries, 0 to 39999\n",
      "Data columns (total 18 columns):\n",
      " #   Column                   Non-Null Count  Dtype  \n",
      "---  ------                   --------------  -----  \n",
      " 0   administrative           40000 non-null  int64  \n",
      " 1   administrative_duration  40000 non-null  float64\n",
      " 2   informational            40000 non-null  int64  \n",
      " 3   informational_duration   40000 non-null  float64\n",
      " 4   productrelated           40000 non-null  int64  \n",
      " 5   productrelated_duration  40000 non-null  float64\n",
      " 6   bouncerates              40000 non-null  float64\n",
      " 7   exitrates                40000 non-null  float64\n",
      " 8   pagevalues               40000 non-null  float64\n",
      " 9   specialday               40000 non-null  float64\n",
      " 10  month                    40000 non-null  object \n",
      " 11  operatingsystems         40000 non-null  object \n",
      " 12  browser                  40000 non-null  object \n",
      " 13  region                   40000 non-null  int64  \n",
      " 14  traffictype              40000 non-null  object \n",
      " 15  visitortype              40000 non-null  object \n",
      " 16  weekend                  40000 non-null  bool   \n",
      " 17  revenue                  40000 non-null  int64  \n",
      "dtypes: bool(1), float64(7), int64(5), object(5)\n",
      "memory usage: 5.2+ MB\n"
     ]
    }
   ],
   "source": [
    "revDF.info()"
   ]
  },
  {
   "cell_type": "code",
   "execution_count": 5,
   "metadata": {
    "colab": {
     "base_uri": "https://localhost:8080/",
     "height": 413
    },
    "id": "Ed45O7I6rJ-_",
    "outputId": "b0ae16c9-76fc-4472-94b6-19157c7580f6"
   },
   "outputs": [
    {
     "data": {
      "text/plain": [
       "<AxesSubplot:>"
      ]
     },
     "execution_count": 5,
     "metadata": {},
     "output_type": "execute_result"
    },
    {
     "data": {
      "image/png": "[encoded data removed]",
      "text/plain": [
       "<Figure size 1152x360 with 2 Axes>"
      ]
     },
     "metadata": {
      "needs_background": "light"
     },
     "output_type": "display_data"
    }
   ],
   "source": [
    "plt.figure(figsize = (16,5))\n",
    "sns.heatmap(revDF.corr(), annot=True)"
   ]
  },
  {
   "cell_type": "code",
   "execution_count": 6,
   "metadata": {
    "id": "U9l82bRVy4WG"
   },
   "outputs": [],
   "source": [
    "revDF = revDF.replace(to_replace=\"*\",value=0)\n",
    "clmns = ['month','visitortype','weekend']\n",
    "revDF[clmns] = revDF[clmns].apply(LabelEncoder().fit_transform)"
   ]
  },
  {
   "cell_type": "code",
   "execution_count": 7,
   "metadata": {
    "id": "LTnpkIDBxvlO"
   },
   "outputs": [],
   "source": [
    "X = revDF.drop(columns=\"revenue\")\n",
    "y = revDF[\"revenue\"]\n",
    "# X\n",
    "# y"
   ]
  },
  {
   "cell_type": "code",
   "execution_count": 8,
   "metadata": {
    "colab": {
     "base_uri": "https://localhost:8080/",
     "height": 317
    },
    "id": "aU9UdIhUxqPW",
    "outputId": "a560ed21-3bf8-4867-fb2f-d9755294fe0c"
   },
   "outputs": [
    {
     "name": "stdout",
     "output_type": "stream",
     "text": [
      "[0.0490707  0.04532596 0.0276907  0.02711865 0.06512449 0.06474069\n",
      " 0.05111354 0.06652195 0.37807722 0.00786789 0.04644234 0.02945706\n",
      " 0.02978731 0.04082032 0.04106559 0.01515757 0.01461802]\n"
     ]
    },
    {
     "data": {
      "image/png": "[encoded data removed]",
      "text/plain": [
       "<Figure size 432x288 with 1 Axes>"
      ]
     },
     "metadata": {
      "needs_background": "light"
     },
     "output_type": "display_data"
    }
   ],
   "source": [
    "model = ExtraTreesClassifier()\n",
    "model.fit(X,y)\n",
    "print(model.feature_importances_) #use inbuilt class feature_importances of tree based classifiers\n",
    "#plot graph of feature importances for better visualization\n",
    "feat_importances = pd.Series(model.feature_importances_, index=X.columns)\n",
    "feat_importances.nlargest(10).plot(kind='barh')\n",
    "plt.show()"
   ]
  },
  {
   "cell_type": "code",
   "execution_count": 9,
   "metadata": {
    "id": "KYq6j69mbUn9"
   },
   "outputs": [],
   "source": [
    "from sklearn.model_selection import train_test_split\n",
    "X_train, X_test, y_train, y_test = train_test_split(X, y, test_size = 0.25, random_state = 0)"
   ]
  },
  {
   "cell_type": "code",
   "execution_count": 10,
   "metadata": {
    "id": "3VTjRO2TcMgz"
   },
   "outputs": [],
   "source": [
    "from sklearn.preprocessing import StandardScaler\n",
    "sc = StandardScaler()\n",
    "X_train = sc.fit_transform(X_train)\n",
    "X_test = sc.transform(X_test)"
   ]
  },
  {
   "cell_type": "code",
   "execution_count": 11,
   "metadata": {},
   "outputs": [],
   "source": [
    "from sklearn.metrics import accuracy_score, f1_score, confusion_matrix, auc, roc_curve"
   ]
  },
  {
   "cell_type": "code",
   "execution_count": 12,
   "metadata": {},
   "outputs": [],
   "source": [
    "def get_model_metrics(actual, predicted, classifier_name):\n",
    "  acc = accuracy_score(actual, predicted)\n",
    "  f1 = f1_score(actual, predicted)\n",
    "  tn, fp, fn, tp = confusion_matrix(actual, predicted).ravel()\n",
    "  sensitivity = tp / (tp + fn)\n",
    "  specificity = tn / (tn + fp)\n",
    "  fpr, tpr, thresholds = roc_curve(actual, predicted, pos_label=1)\n",
    "  auc_value = auc(fpr, tpr)\n",
    "  return {'accuracy': acc,\n",
    "          'f1-score': f1,\n",
    "          'classifier': classifier_name,\n",
    "          'sensitivity': sensitivity,\n",
    "          'specificity': specificity,\n",
    "          'AUC': auc_value,\n",
    "          'fpr_values': fpr,\n",
    "          'tpr_values': tpr}"
   ]
  },
  {
   "cell_type": "code",
   "execution_count": 13,
   "metadata": {},
   "outputs": [],
   "source": [
    "res_cols = ['classifier', 'f1-score', 'sensitivity', 'specificity', 'AUC', 'accuracy']\n",
    "df_results = pd.DataFrame(columns=res_cols)"
   ]
  },
  {
   "cell_type": "markdown",
   "metadata": {
    "id": "93KKEZTzc2Db"
   },
   "source": [
    "# ***Logistic Regression***"
   ]
  },
  {
   "cell_type": "code",
   "execution_count": 14,
   "metadata": {
    "colab": {
     "base_uri": "https://localhost:8080/"
    },
    "id": "We5ddnwycSkF",
    "outputId": "c76aff30-82af-4e52-8bce-eb86f07df2ea"
   },
   "outputs": [
    {
     "data": {
      "text/plain": [
       "LogisticRegression(random_state=0)"
      ]
     },
     "execution_count": 14,
     "metadata": {},
     "output_type": "execute_result"
    }
   ],
   "source": [
    "from sklearn.linear_model import LogisticRegression\n",
    "classifierLR = LogisticRegression(random_state = 0)\n",
    "classifierLR.fit(X_train, y_train)"
   ]
  },
  {
   "cell_type": "code",
   "execution_count": 15,
   "metadata": {
    "id": "dWb-wrz-ccEx"
   },
   "outputs": [],
   "source": [
    "y_pred_lr = classifierLR.predict(X_test)"
   ]
  },
  {
   "cell_type": "code",
   "execution_count": 16,
   "metadata": {
    "colab": {
     "base_uri": "https://localhost:8080/"
    },
    "id": "U1vRB-CRcj9Z",
    "outputId": "b60befb3-399b-40ce-f4d6-a81e06f4ef46"
   },
   "outputs": [
    {
     "name": "stdout",
     "output_type": "stream",
     "text": [
      "[[8206  237]\n",
      " [ 991  566]]\n"
     ]
    },
    {
     "data": {
      "text/plain": [
       "0.8772"
      ]
     },
     "execution_count": 16,
     "metadata": {},
     "output_type": "execute_result"
    }
   ],
   "source": [
    "from sklearn.metrics import confusion_matrix, accuracy_score\n",
    "cm = confusion_matrix(y_test, y_pred_lr)\n",
    "print(cm)\n",
    "accuracy_score(y_test, y_pred_lr)"
   ]
  },
  {
   "cell_type": "code",
   "execution_count": 18,
   "metadata": {},
   "outputs": [
    {
     "name": "stdout",
     "output_type": "stream",
     "text": [
      "{'accuracy': 0.8772, 'f1-score': 0.47966101694915264, 'classifier': LogisticRegression(random_state=0), 'sensitivity': 0.363519588953115, 'specificity': 0.9719294089778515, 'AUC': 0.6677244989654831, 'fpr_values': array([0.        , 0.02807059, 1.        ]), 'tpr_values': array([0.        , 0.36351959, 1.        ])}\n"
     ]
    }
   ],
   "source": [
    "lg_metrics = get_model_metrics(y_test, y_pred_lr, classifierLR)\n",
    "print(lg_metrics)\n",
    "if classifierLR not in df_results['classifier'].values:\n",
    "    df_results = df_results.append(lg_metrics, ignore_index=True)"
   ]
  },
  {
   "cell_type": "markdown",
   "metadata": {
    "id": "jI-ahFXpc-MZ"
   },
   "source": [
    "# ***K-Nearest Neighbour***"
   ]
  },
  {
   "cell_type": "code",
   "execution_count": 24,
   "metadata": {
    "colab": {
     "base_uri": "https://localhost:8080/"
    },
    "id": "RmbhCjsAckr4",
    "outputId": "641c2ba9-fd9d-4eed-f39e-6dddbb9d9431"
   },
   "outputs": [
    {
     "data": {
      "text/plain": [
       "KNeighborsClassifier()"
      ]
     },
     "execution_count": 24,
     "metadata": {},
     "output_type": "execute_result"
    }
   ],
   "source": [
    "from sklearn.neighbors import KNeighborsClassifier\n",
    "classifierKnn = KNeighborsClassifier(n_neighbors = 5, metric = 'minkowski', p = 2)\n",
    "classifierKnn.fit(X_train, y_train)"
   ]
  },
  {
   "cell_type": "code",
   "execution_count": 25,
   "metadata": {
    "id": "qSsI2lrodeOj"
   },
   "outputs": [],
   "source": [
    "y_pred_knn = classifierKnn.predict(X_test)"
   ]
  },
  {
   "cell_type": "code",
   "execution_count": 26,
   "metadata": {
    "colab": {
     "base_uri": "https://localhost:8080/"
    },
    "id": "eSB23iG1dm3v",
    "outputId": "45499c49-0a17-4907-8efb-def25cefddd3"
   },
   "outputs": [
    {
     "name": "stdout",
     "output_type": "stream",
     "text": [
      "[[8087  356]\n",
      " [ 908  649]]\n"
     ]
    },
    {
     "data": {
      "text/plain": [
       "0.8736"
      ]
     },
     "execution_count": 26,
     "metadata": {},
     "output_type": "execute_result"
    }
   ],
   "source": [
    "from sklearn.metrics import confusion_matrix, accuracy_score\n",
    "cm = confusion_matrix(y_test, y_pred_knn)\n",
    "print(cm)\n",
    "accuracy_score(y_test, y_pred_knn)"
   ]
  },
  {
   "cell_type": "code",
   "execution_count": 27,
   "metadata": {},
   "outputs": [
    {
     "name": "stdout",
     "output_type": "stream",
     "text": [
      "{'accuracy': 0.8736, 'f1-score': 0.5066354410616706, 'classifier': KNeighborsClassifier(), 'sensitivity': 0.4168272318561336, 'specificity': 0.9578348928106123, 'AUC': 0.6873310623333729, 'fpr_values': array([0.        , 0.04216511, 1.        ]), 'tpr_values': array([0.        , 0.41682723, 1.        ])}\n"
     ]
    }
   ],
   "source": [
    "knn_metrics = get_model_metrics(y_test, y_pred_knn,classifierKnn )\n",
    "print(knn_metrics)\n",
    "if classifierKnn not in df_results['classifier'].values:\n",
    "    df_results = df_results.append(knn_metrics, ignore_index=True)"
   ]
  },
  {
   "cell_type": "markdown",
   "metadata": {
    "id": "knGKKz5PeJ3V"
   },
   "source": [
    "# ***Support Vector Classifier***"
   ]
  },
  {
   "cell_type": "code",
   "execution_count": 28,
   "metadata": {
    "colab": {
     "base_uri": "https://localhost:8080/"
    },
    "id": "_cNmMwkxdp7v",
    "outputId": "9ac8ca77-c0e3-41d4-996a-b1eae5b0115e"
   },
   "outputs": [
    {
     "data": {
      "text/plain": [
       "SVC(kernel='linear', random_state=0)"
      ]
     },
     "execution_count": 28,
     "metadata": {},
     "output_type": "execute_result"
    }
   ],
   "source": [
    "from sklearn.svm import SVC\n",
    "classifierSvc = SVC(kernel = 'linear', random_state = 0)\n",
    "classifierSvc.fit(X_train, y_train)"
   ]
  },
  {
   "cell_type": "code",
   "execution_count": 29,
   "metadata": {
    "id": "Nu0xT-_pealC"
   },
   "outputs": [],
   "source": [
    "y_pred_svc = classifierSvc.predict(X_test)"
   ]
  },
  {
   "cell_type": "code",
   "execution_count": 30,
   "metadata": {
    "colab": {
     "base_uri": "https://localhost:8080/"
    },
    "id": "jhVRBqg5erwc",
    "outputId": "eb8b41a2-76eb-4c1e-9629-eecda2c2b28d"
   },
   "outputs": [
    {
     "name": "stdout",
     "output_type": "stream",
     "text": [
      "[[8174  269]\n",
      " [ 950  607]]\n"
     ]
    },
    {
     "data": {
      "text/plain": [
       "0.8781"
      ]
     },
     "execution_count": 30,
     "metadata": {},
     "output_type": "execute_result"
    }
   ],
   "source": [
    "from sklearn.metrics import confusion_matrix, accuracy_score\n",
    "cm = confusion_matrix(y_test, y_pred_svc)\n",
    "print(cm)\n",
    "accuracy_score(y_test, y_pred_svc)"
   ]
  },
  {
   "cell_type": "code",
   "execution_count": 31,
   "metadata": {},
   "outputs": [
    {
     "name": "stdout",
     "output_type": "stream",
     "text": [
      "{'accuracy': 0.8781, 'f1-score': 0.4989724619810934, 'classifier': SVC(kernel='linear', random_state=0), 'sensitivity': 0.38985228002569045, 'specificity': 0.9681392869832998, 'AUC': 0.6789957835044951, 'fpr_values': array([0.        , 0.03186071, 1.        ]), 'tpr_values': array([0.        , 0.38985228, 1.        ])}\n"
     ]
    }
   ],
   "source": [
    "svm_metrics = get_model_metrics(y_test, y_pred_svc, classifierSvc)\n",
    "print(svm_metrics)\n",
    "if classifierSvc not in df_results['classifier'].values:\n",
    "    df_results = df_results.append(svm_metrics, ignore_index=True)"
   ]
  },
  {
   "cell_type": "markdown",
   "metadata": {
    "id": "_1Mrc_kofbNZ"
   },
   "source": [
    "# ***Support Vector Classifier - Kernel***"
   ]
  },
  {
   "cell_type": "code",
   "execution_count": 32,
   "metadata": {
    "colab": {
     "base_uri": "https://localhost:8080/"
    },
    "id": "1ZOiDqKyfxXd",
    "outputId": "3ec38eb7-09ae-455e-b638-d7a02687d78b"
   },
   "outputs": [
    {
     "data": {
      "text/plain": [
       "SVC(random_state=0)"
      ]
     },
     "execution_count": 32,
     "metadata": {},
     "output_type": "execute_result"
    }
   ],
   "source": [
    "from sklearn.svm import SVC\n",
    "classifierSvcKer = SVC(kernel = 'rbf', random_state = 0)\n",
    "classifierSvcKer.fit(X_train, y_train)"
   ]
  },
  {
   "cell_type": "code",
   "execution_count": 33,
   "metadata": {
    "id": "4CzR7Ed0f6Hf"
   },
   "outputs": [],
   "source": [
    "y_pred_svcker = classifierSvcKer.predict(X_test)"
   ]
  },
  {
   "cell_type": "code",
   "execution_count": 34,
   "metadata": {
    "colab": {
     "base_uri": "https://localhost:8080/"
    },
    "id": "NxVm7z-qgBiD",
    "outputId": "20be9f88-f993-4137-b910-336af1242583"
   },
   "outputs": [
    {
     "name": "stdout",
     "output_type": "stream",
     "text": [
      "[[8165  278]\n",
      " [ 800  757]]\n"
     ]
    },
    {
     "data": {
      "text/plain": [
       "0.8922"
      ]
     },
     "execution_count": 34,
     "metadata": {},
     "output_type": "execute_result"
    }
   ],
   "source": [
    "from sklearn.metrics import confusion_matrix, accuracy_score\n",
    "cm = confusion_matrix(y_test, y_pred_svcker)\n",
    "print(cm)\n",
    "accuracy_score(y_test, y_pred_svcker)"
   ]
  },
  {
   "cell_type": "code",
   "execution_count": 35,
   "metadata": {},
   "outputs": [
    {
     "name": "stdout",
     "output_type": "stream",
     "text": [
      "{'accuracy': 0.8781, 'f1-score': 0.4989724619810934, 'classifier': SVC(kernel='linear', random_state=0), 'sensitivity': 0.38985228002569045, 'specificity': 0.9681392869832998, 'AUC': 0.6789957835044951, 'fpr_values': array([0.        , 0.03186071, 1.        ]), 'tpr_values': array([0.        , 0.38985228, 1.        ])}\n"
     ]
    }
   ],
   "source": [
    "svmk_metrics = get_model_metrics(y_test, y_pred_svcker, classifierSvcKer)\n",
    "print(svm_metrics)\n",
    "if classifierSvcKer not in df_results['classifier'].values:\n",
    "    df_results = df_results.append(svmk_metrics, ignore_index=True)"
   ]
  },
  {
   "cell_type": "markdown",
   "metadata": {
    "id": "T2xDnZodgRwV"
   },
   "source": [
    "# ***Naive Bayes***"
   ]
  },
  {
   "cell_type": "code",
   "execution_count": 36,
   "metadata": {
    "colab": {
     "base_uri": "https://localhost:8080/"
    },
    "id": "dIAoExJVgVJn",
    "outputId": "4d78a542-1528-4083-a606-59e0860eecec"
   },
   "outputs": [
    {
     "data": {
      "text/plain": [
       "GaussianNB()"
      ]
     },
     "execution_count": 36,
     "metadata": {},
     "output_type": "execute_result"
    }
   ],
   "source": [
    "from sklearn.naive_bayes import GaussianNB\n",
    "classifierNB = GaussianNB()\n",
    "classifierNB.fit(X_train, y_train)"
   ]
  },
  {
   "cell_type": "code",
   "execution_count": 37,
   "metadata": {
    "id": "5pu5IPmLgqLa"
   },
   "outputs": [],
   "source": [
    "y_pred_nb = classifierNB.predict(X_test)"
   ]
  },
  {
   "cell_type": "code",
   "execution_count": 38,
   "metadata": {
    "colab": {
     "base_uri": "https://localhost:8080/"
    },
    "id": "sGzPb3segylJ",
    "outputId": "35cb7f1e-5683-46b9-a375-3878cb995480"
   },
   "outputs": [
    {
     "name": "stdout",
     "output_type": "stream",
     "text": [
      "[[6936 1507]\n",
      " [ 513 1044]]\n"
     ]
    },
    {
     "data": {
      "text/plain": [
       "0.798"
      ]
     },
     "execution_count": 38,
     "metadata": {},
     "output_type": "execute_result"
    }
   ],
   "source": [
    "from sklearn.metrics import confusion_matrix, accuracy_score\n",
    "cm = confusion_matrix(y_test, y_pred_nb)\n",
    "print(cm)\n",
    "accuracy_score(y_test, y_pred_nb)"
   ]
  },
  {
   "cell_type": "code",
   "execution_count": 40,
   "metadata": {},
   "outputs": [
    {
     "name": "stdout",
     "output_type": "stream",
     "text": [
      "{'accuracy': 0.798, 'f1-score': 0.5082765335929893, 'classifier': GaussianNB(), 'sensitivity': 0.6705202312138728, 'specificity': 0.8215089423190809, 'AUC': 0.7460145867664769, 'fpr_values': array([0.        , 0.17849106, 1.        ]), 'tpr_values': array([0.        , 0.67052023, 1.        ])}\n"
     ]
    }
   ],
   "source": [
    "nb_metrics = get_model_metrics(y_test, y_pred_nb, classifierNB)\n",
    "print(nb_metrics)\n",
    "if classifierNB not in df_results['classifier'].values:\n",
    "    df_results = df_results.append(nb_metrics, ignore_index=True)"
   ]
  },
  {
   "cell_type": "markdown",
   "metadata": {
    "id": "WZM6pA__g2kB"
   },
   "source": [
    "# ***Decision Tree Classifier***"
   ]
  },
  {
   "cell_type": "code",
   "execution_count": 19,
   "metadata": {
    "colab": {
     "base_uri": "https://localhost:8080/"
    },
    "id": "1pF3P3tHhMAj",
    "outputId": "1511ca53-44b6-41f6-ef32-d1db2017df81"
   },
   "outputs": [
    {
     "data": {
      "text/plain": [
       "DecisionTreeClassifier(criterion='entropy', random_state=0)"
      ]
     },
     "execution_count": 19,
     "metadata": {},
     "output_type": "execute_result"
    }
   ],
   "source": [
    "from sklearn.tree import DecisionTreeClassifier\n",
    "classifierDT = DecisionTreeClassifier(criterion = 'entropy', random_state = 0)\n",
    "classifierDT.fit(X_train, y_train)"
   ]
  },
  {
   "cell_type": "code",
   "execution_count": 20,
   "metadata": {
    "id": "_5vJv8j_hWQv"
   },
   "outputs": [],
   "source": [
    "y_pred_dt = classifierDT.predict(X_test)"
   ]
  },
  {
   "cell_type": "code",
   "execution_count": 21,
   "metadata": {
    "colab": {
     "base_uri": "https://localhost:8080/"
    },
    "id": "08cGjAXLhfG0",
    "outputId": "59aa77b1-d834-40d3-fa19-08d5fc17cced"
   },
   "outputs": [
    {
     "name": "stdout",
     "output_type": "stream",
     "text": [
      "[[7782  661]\n",
      " [ 667  890]]\n"
     ]
    },
    {
     "data": {
      "text/plain": [
       "0.8672"
      ]
     },
     "execution_count": 21,
     "metadata": {},
     "output_type": "execute_result"
    }
   ],
   "source": [
    "from sklearn.metrics import confusion_matrix, accuracy_score\n",
    "cm = confusion_matrix(y_test, y_pred_dt)\n",
    "print(cm)\n",
    "accuracy_score(y_test, y_pred_dt)"
   ]
  },
  {
   "cell_type": "code",
   "execution_count": 23,
   "metadata": {},
   "outputs": [
    {
     "name": "stdout",
     "output_type": "stream",
     "text": [
      "{'accuracy': 0.8672, 'f1-score': 0.5727155727155727, 'classifier': DecisionTreeClassifier(criterion='entropy', random_state=0), 'sensitivity': 0.5716120745022479, 'specificity': 0.9217102925500414, 'AUC': 0.7466611835261446, 'fpr_values': array([0.        , 0.07828971, 1.        ]), 'tpr_values': array([0.        , 0.57161207, 1.        ])}\n"
     ]
    }
   ],
   "source": [
    "dt_metrics = get_model_metrics(y_test, y_pred_dt,classifierDT )\n",
    "print(dt_metrics)\n",
    "if classifierDT not in df_results['classifier'].values:\n",
    "    df_results = df_results.append(dt_metrics, ignore_index=True)"
   ]
  },
  {
   "cell_type": "markdown",
   "metadata": {
    "id": "mzrrHmnGhj2x"
   },
   "source": [
    "# ***Random Forest Classifier***"
   ]
  },
  {
   "cell_type": "code",
   "execution_count": 41,
   "metadata": {
    "colab": {
     "base_uri": "https://localhost:8080/"
    },
    "id": "v5yNkqQEh5vE",
    "outputId": "2a305a9d-5739-4c38-e90c-456d8929eb39"
   },
   "outputs": [
    {
     "data": {
      "text/plain": [
       "RandomForestClassifier(criterion='entropy', n_estimators=10, random_state=0)"
      ]
     },
     "execution_count": 41,
     "metadata": {},
     "output_type": "execute_result"
    }
   ],
   "source": [
    "from sklearn.ensemble import RandomForestClassifier\n",
    "classifierRFC = RandomForestClassifier(n_estimators = 10, criterion = 'entropy', random_state = 0)\n",
    "classifierRFC.fit(X_train, y_train)"
   ]
  },
  {
   "cell_type": "code",
   "execution_count": 42,
   "metadata": {
    "id": "LttVhiWxiAVT"
   },
   "outputs": [],
   "source": [
    "y_pred_rfc = classifierRFC.predict(X_test)"
   ]
  },
  {
   "cell_type": "code",
   "execution_count": 43,
   "metadata": {
    "colab": {
     "base_uri": "https://localhost:8080/"
    },
    "id": "Offxf9_yiG7i",
    "outputId": "6502536e-94c3-4bdb-c890-19b47a81e94d"
   },
   "outputs": [
    {
     "name": "stdout",
     "output_type": "stream",
     "text": [
      "[[8110  333]\n",
      " [ 689  868]]\n"
     ]
    },
    {
     "data": {
      "text/plain": [
       "0.8978"
      ]
     },
     "execution_count": 43,
     "metadata": {},
     "output_type": "execute_result"
    }
   ],
   "source": [
    "from sklearn.metrics import confusion_matrix, accuracy_score\n",
    "cm = confusion_matrix(y_test, y_pred_rfc)\n",
    "print(cm)\n",
    "accuracy_score(y_test, y_pred_rfc)"
   ]
  },
  {
   "cell_type": "code",
   "execution_count": 45,
   "metadata": {},
   "outputs": [
    {
     "name": "stdout",
     "output_type": "stream",
     "text": [
      "{'accuracy': 0.8978, 'f1-score': 0.6294416243654822, 'classifier': RandomForestClassifier(criterion='entropy', n_estimators=10, random_state=0), 'sensitivity': 0.5574823378291587, 'specificity': 0.9605590429941964, 'AUC': 0.7590206904116775, 'fpr_values': array([0.        , 0.03944096, 1.        ]), 'tpr_values': array([0.        , 0.55748234, 1.        ])}\n"
     ]
    },
    {
     "name": "stderr",
     "output_type": "stream",
     "text": [
      "<ipython-input-45-90845966add9>:3: DeprecationWarning: elementwise comparison failed; this will raise an error in the future.\n",
      "  if classifierRFC not in df_results['classifier'].values:\n"
     ]
    }
   ],
   "source": [
    "rfc_metrics = get_model_metrics(y_test, y_pred_rfc,classifierRFC )\n",
    "print(rfc_metrics)\n",
    "if classifierRFC not in df_results['classifier'].values:\n",
    "    df_results = df_results.append(rfc_metrics, ignore_index=True)"
   ]
  },
  {
   "cell_type": "code",
   "execution_count": null,
   "metadata": {},
   "outputs": [],
   "source": []
  }
 ],
 "metadata": {
  "colab": {
   "collapsed_sections": [],
   "name": "DSML_Hackathon2.ipynb",
   "provenance": []
  },
  "kernelspec": {
   "display_name": "Python 3",
   "language": "python",
   "name": "python3"
  },
  "language_info": {
   "codemirror_mode": {
    "name": "ipython",
    "version": 3
   },
   "file_extension": ".py",
   "mimetype": "text/x-python",
   "name": "python",
   "nbconvert_exporter": "python",
   "pygments_lexer": "ipython3",
   "version": "3.8.8"
  }
 },
 "nbformat": 4,
 "nbformat_minor": 1
}
